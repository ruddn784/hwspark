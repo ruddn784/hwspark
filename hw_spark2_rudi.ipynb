{
 "cells": [
  {
   "cell_type": "markdown",
   "id": "e678d4de",
   "metadata": {},
   "source": [
    "Выберите 15 стран с наибольшим процентом переболевших на 31 марта (в выходящем датасете необходимы колонки: iso_code, страна, процент переболевших"
   ]
  },
  {
   "cell_type": "code",
   "execution_count": 2,
   "id": "6e78aee2",
   "metadata": {},
   "outputs": [
    {
     "name": "stderr",
     "output_type": "stream",
     "text": [
      "21/11/18 18:44:41 WARN NativeCodeLoader: Unable to load native-hadoop library for your platform... using builtin-java classes where applicable\n",
      "Using Spark's default log4j profile: org/apache/spark/log4j-defaults.properties\n",
      "Setting default log level to \"WARN\".\n",
      "To adjust logging level use sc.setLogLevel(newLevel). For SparkR, use setLogLevel(newLevel).\n"
     ]
    }
   ],
   "source": [
    "from pyspark.sql import SparkSession\n",
    "\n",
    "spark = SparkSession.\\\n",
    "        builder\\\n",
    "        .appName(\"rdd_wordcount\")\\\n",
    "        .master(\"spark://spark-master:7077\")\\\n",
    "        .config(\"spark.blockManager.port\", \"10025\")\\\n",
    "        .config(\"spark.driver.blockManager.port\", \"10026\")\\\n",
    "        .config(\"spark.spark.driver.host\", \"spark-master\")\\\n",
    "        .config(\"spark.cores.max\", \"1\")\\\n",
    "        .config(\"spark.executor.memory\", \"512m\")\\\n",
    "        .getOrCreate()"
   ]
  },
  {
   "cell_type": "code",
   "execution_count": 4,
   "id": "a1c21177",
   "metadata": {},
   "outputs": [
    {
     "name": "stderr",
     "output_type": "stream",
     "text": [
      "                                                                                \r"
     ]
    }
   ],
   "source": [
    "df=spark.read.option('header', True).option('sep',',').option('inferSchema', True).csv('/opt/workspace/owid-covid-data.csv')"
   ]
  },
  {
   "cell_type": "code",
   "execution_count": 5,
   "id": "bdff7267",
   "metadata": {},
   "outputs": [],
   "source": [
    "from pyspark.sql import functions as F\n",
    "from pyspark.sql.types import *"
   ]
  },
  {
   "cell_type": "code",
   "execution_count": 45,
   "id": "af8d7639",
   "metadata": {},
   "outputs": [],
   "source": [
    "df1=df.select('iso_code','location', 'total_cases', 'population').where(df.date=='2021-03-31').filter(~df.iso_code.contains('OWID'))"
   ]
  },
  {
   "cell_type": "code",
   "execution_count": 48,
   "id": "375b5bec",
   "metadata": {},
   "outputs": [
    {
     "name": "stdout",
     "output_type": "stream",
     "text": [
      "+--------+-------------+------------------+\n",
      "|iso_code|     location|     percent_cases|\n",
      "+--------+-------------+------------------+\n",
      "|     AND|      Andorra|15.543907331909661|\n",
      "|     MNE|   Montenegro|14.523725364693293|\n",
      "|     CZE|      Czechia|14.308848404077997|\n",
      "|     SMR|   San Marino|13.937179562732041|\n",
      "|     SVN|     Slovenia|10.370805779121204|\n",
      "|     LUX|   Luxembourg| 9.847342390123583|\n",
      "|     ISR|       Israel| 9.625106044786802|\n",
      "|     USA|United States| 9.203010995860707|\n",
      "|     SRB|       Serbia| 8.826328557933492|\n",
      "|     BHR|      Bahrain| 8.488860079114566|\n",
      "|     PAN|       Panama| 8.228739065460761|\n",
      "|     PRT|     Portugal| 8.058699735120369|\n",
      "|     EST|      Estonia| 8.022681579659551|\n",
      "|     SWE|       Sweden| 7.969744347858805|\n",
      "|     LTU|    Lithuania| 7.938864728274825|\n",
      "+--------+-------------+------------------+\n",
      "only showing top 15 rows\n",
      "\n"
     ]
    }
   ],
   "source": [
    "percent=df1.select('iso_code','location',(df.total_cases/df.population*100).alias ('percent_cases'))\n",
    "percent.orderBy(percent.percent_cases.desc()).show(15)"
   ]
  },
  {
   "cell_type": "markdown",
   "id": "614ed556",
   "metadata": {},
   "source": [
    "Задание 2.\n",
    "Top 10 стран с максимальным зафиксированным кол-вом новых случаев за последнюю неделю марта 2021 в отсортированном порядке по убыванию\n",
    "(в выходящем датасете необходимы колонки: число, страна, кол-во новых случаев)"
   ]
  },
  {
   "cell_type": "code",
   "execution_count": 49,
   "id": "ce97ff37",
   "metadata": {},
   "outputs": [],
   "source": [
    "from pyspark.sql.window import Window"
   ]
  },
  {
   "cell_type": "code",
   "execution_count": 52,
   "id": "44e3daad",
   "metadata": {},
   "outputs": [
    {
     "name": "stdout",
     "output_type": "stream",
     "text": [
      "+-----------+----------+---------+\n",
      "|   location|      date|new_cases|\n",
      "+-----------+----------+---------+\n",
      "|Afghanistan|2021-03-25|     34.0|\n",
      "|Afghanistan|2021-03-26|     28.0|\n",
      "|Afghanistan|2021-03-27|     36.0|\n",
      "|Afghanistan|2021-03-28|      4.0|\n",
      "|Afghanistan|2021-03-29|     28.0|\n",
      "|Afghanistan|2021-03-30|     62.0|\n",
      "|Afghanistan|2021-03-31|     70.0|\n",
      "|    Albania|2021-03-25|    472.0|\n",
      "|    Albania|2021-03-26|    449.0|\n",
      "|    Albania|2021-03-27|    425.0|\n",
      "|    Albania|2021-03-28|    493.0|\n",
      "|    Albania|2021-03-29|    285.0|\n",
      "|    Albania|2021-03-30|    304.0|\n",
      "|    Albania|2021-03-31|    434.0|\n",
      "|    Algeria|2021-03-25|    105.0|\n",
      "+-----------+----------+---------+\n",
      "only showing top 15 rows\n",
      "\n"
     ]
    }
   ],
   "source": [
    "df2=df.select('location', 'date', 'new_cases').where((df.date > '2021-03-24')& (df.date <='2021-03-31')).filter(~df.iso_code.contains('OWID'))\n",
    "df2.show(15)"
   ]
  },
  {
   "cell_type": "code",
   "execution_count": 53,
   "id": "f9746407",
   "metadata": {},
   "outputs": [],
   "source": [
    "max__cases=df2.withColumn('max_',F.max('new_cases').over(Window.partitionBy(\"location\")))"
   ]
  },
  {
   "cell_type": "code",
   "execution_count": 54,
   "id": "cdc0aad5",
   "metadata": {},
   "outputs": [
    {
     "name": "stderr",
     "output_type": "stream",
     "text": [
      "[Stage 22:====================================================> (195 + 1) / 200]\r"
     ]
    },
    {
     "name": "stdout",
     "output_type": "stream",
     "text": [
      "+-------------+----------+--------+\n",
      "|     location|      date|    max_|\n",
      "+-------------+----------+--------+\n",
      "|       Brazil|2021-03-25|100158.0|\n",
      "|United States|2021-03-26| 77321.0|\n",
      "|        India|2021-03-31| 72330.0|\n",
      "|       France|2021-03-31| 59054.0|\n",
      "|       Turkey|2021-03-31| 39302.0|\n",
      "|       Poland|2021-03-26| 35145.0|\n",
      "|      Germany|2021-03-31| 25014.0|\n",
      "|        Italy|2021-03-26| 24076.0|\n",
      "|         Peru|2021-03-25| 19206.0|\n",
      "|      Ukraine|2021-03-26| 18226.0|\n",
      "+-------------+----------+--------+\n",
      "only showing top 10 rows\n",
      "\n"
     ]
    },
    {
     "name": "stderr",
     "output_type": "stream",
     "text": [
      "                                                                                \r"
     ]
    }
   ],
   "source": [
    "max__cases.select('location', 'date', 'max_').where( F.col('max_')==F.col('new_cases')).orderBy(max__cases.max_.desc()).show(10)"
   ]
  },
  {
   "cell_type": "markdown",
   "id": "c6861caa",
   "metadata": {},
   "source": [
    "Зажание 3.\n",
    "Посчитайте изменение случаев относительно предыдущего дня в России за последнюю неделю марта 2021. (например: в россии вчера было 9150 , сегодня 8763, итог: -387) (в выходящем датасете необходимы колонки: число, кол-во новых случаев вчера, кол-во новых случаев сегодня, дельта)"
   ]
  },
  {
   "cell_type": "code",
   "execution_count": 57,
   "id": "8a6829f2",
   "metadata": {},
   "outputs": [
    {
     "name": "stderr",
     "output_type": "stream",
     "text": [
      "[Stage 44:===================================================>  (115 + 1) / 120]\r"
     ]
    },
    {
     "name": "stdout",
     "output_type": "stream",
     "text": [
      "+--------+----------+---------+--------+\n",
      "|location|      date|new_cases|er_cases|\n",
      "+--------+----------+---------+--------+\n",
      "|  Russia|2021-03-25|   9128.0|    null|\n",
      "|  Russia|2021-03-26|   9073.0|  9128.0|\n",
      "|  Russia|2021-03-27|   8783.0|  9073.0|\n",
      "|  Russia|2021-03-28|   8979.0|  8783.0|\n",
      "|  Russia|2021-03-29|   8589.0|  8979.0|\n",
      "|  Russia|2021-03-30|   8162.0|  8589.0|\n",
      "|  Russia|2021-03-31|   8156.0|  8162.0|\n",
      "+--------+----------+---------+--------+\n",
      "\n"
     ]
    },
    {
     "name": "stderr",
     "output_type": "stream",
     "text": [
      "                                                                                \r"
     ]
    }
   ],
   "source": [
    "windowSpec  = Window.partitionBy(\"location\").orderBy(\"date\")\n",
    "df3=df2.select('location', 'date', 'new_cases').where(df.location=='Russia').withColumn(\"er_cases\", F.lag(\"new_cases\",1).over(windowSpec)) \n",
    "#df3=df2.select('location', 'date', 'new_cases').where(df.location=='Russia')\n",
    "df3.show()"
   ]
  },
  {
   "cell_type": "code",
   "execution_count": 58,
   "id": "47e9a49f",
   "metadata": {},
   "outputs": [
    {
     "name": "stdout",
     "output_type": "stream",
     "text": [
      "+--------+----------+---------+--------+------+\n",
      "|location|      date|new_cases|er_cases|  diff|\n",
      "+--------+----------+---------+--------+------+\n",
      "|  Russia|2021-03-25|   9128.0|    null|  null|\n",
      "|  Russia|2021-03-26|   9073.0|  9128.0|  55.0|\n",
      "|  Russia|2021-03-27|   8783.0|  9073.0| 290.0|\n",
      "|  Russia|2021-03-28|   8979.0|  8783.0|-196.0|\n",
      "|  Russia|2021-03-29|   8589.0|  8979.0| 390.0|\n",
      "|  Russia|2021-03-30|   8162.0|  8589.0| 427.0|\n",
      "|  Russia|2021-03-31|   8156.0|  8162.0|   6.0|\n",
      "+--------+----------+---------+--------+------+\n",
      "\n"
     ]
    },
    {
     "name": "stderr",
     "output_type": "stream",
     "text": [
      "                                                                                \r"
     ]
    }
   ],
   "source": [
    "df3.withColumn('diff', F.col('er_cases')-F.col('new_cases')).show()"
   ]
  },
  {
   "cell_type": "code",
   "execution_count": 11,
   "id": "3bfad7e7",
   "metadata": {},
   "outputs": [],
   "source": [
    "spark.stop()"
   ]
  }
 ],
 "metadata": {
  "kernelspec": {
   "display_name": "Python 3 (ipykernel)",
   "language": "python",
   "name": "python3"
  },
  "language_info": {
   "codemirror_mode": {
    "name": "ipython",
    "version": 3
   },
   "file_extension": ".py",
   "mimetype": "text/x-python",
   "name": "python",
   "nbconvert_exporter": "python",
   "pygments_lexer": "ipython3",
   "version": "3.9.2"
  }
 },
 "nbformat": 4,
 "nbformat_minor": 5
}
